{
 "cells": [
  {
   "cell_type": "code",
   "execution_count": null,
   "metadata": {},
   "outputs": [],
   "source": [
    "# Conventionally, matplotlib imported as \"plt\"\n",
    "# We will also make use of numpy, traditionally imported as \"np\"\n",
    "import matplotlib.pyplot as plt\n",
    "import numpy as np\n",
    "import math"
   ]
  },
  {
   "cell_type": "code",
   "execution_count": null,
   "metadata": {},
   "outputs": [],
   "source": [
    "# Simple 1D plot, y = sin(x) \n",
    "# Create the x range (-3pi to +3pi)\n",
    "x = np.linspace(-3*math.pi, 3*math.pi, num=100)\n",
    "y = np.sin(x)\n",
    "\n",
    "plt.plot(x, y)"
   ]
  },
  {
   "cell_type": "code",
   "execution_count": null,
   "metadata": {},
   "outputs": [],
   "source": [
    "# Changing line/marker properties\n",
    "# Change the line style, the line width, the color, and added a marker\n",
    "plt.plot(x, y, linestyle=\"--\", linewidth=2, color=\"orange\", marker=\"o\")"
   ]
  },
  {
   "cell_type": "code",
   "execution_count": null,
   "metadata": {},
   "outputs": [],
   "source": [
    "# We can add errorbars as follows\n",
    "yerr = np.linspace(0.05, 0.2, num=100)\n",
    "plt.errorbar(x, y, yerr=yerr)\n",
    "\n",
    "# And also the axis labels\n",
    "plt.xlabel(\"x\")\n",
    "plt.ylabel(\"sin(x)\")\n"
   ]
  },
  {
   "cell_type": "code",
   "execution_count": null,
   "metadata": {},
   "outputs": [],
   "source": [
    "# Define sin(x), cos(x) and their sum\n",
    "y1 = np.sin(x)\n",
    "y2 = np.cos(x)\n",
    "y3 = y1+y2\n",
    "\n",
    "# Drawing multiple plots easy, just call the plt command several times\n",
    "# At this stage, we would probably want to add a legend to the plot\n",
    "# Can be achieved by passing label keyword argument and calling plt.legend() at the end\n",
    "plt.plot(x, y1, label=\"sin(x)\")\n",
    "plt.plot(x, y2, label=\"cos(x)\")\n",
    "plt.plot(x, y3, label=\"sin(x) + cos(x)\")\n",
    "\n",
    "plt.xlabel(\"x\")\n",
    "plt.ylabel(\"y\")\n",
    "plt.legend()"
   ]
  },
  {
   "cell_type": "code",
   "execution_count": null,
   "metadata": {},
   "outputs": [],
   "source": [
    "plt.plot(x, y)\n",
    "\n",
    "# Let's add a grid\n",
    "plt.grid()\n",
    "\n",
    "# And some latex text (using \"raw\" strings)\n",
    "# Note: possible to change the coordinate system\n",
    "plt.text(4.5, 1.0, r'$y=\\sin(x)$')\n"
   ]
  },
  {
   "cell_type": "code",
   "execution_count": null,
   "metadata": {},
   "outputs": [],
   "source": [
    "# At times, might need to use logarithmic axes\n",
    "y_exp = np.exp(x)\n",
    "plt.plot(x, y_exp)\n",
    "\n",
    "plt.xlabel(\"x\")\n",
    "plt.ylabel(r\"$e^{x}$\")\n",
    "\n",
    "# Can be achieved via the yscale command\n",
    "plt.yscale(\"log\")\n"
   ]
  },
  {
   "cell_type": "code",
   "execution_count": null,
   "metadata": {},
   "outputs": [],
   "source": [
    "# Histogramming\n",
    "# Sample from a Poisson process\n",
    "counts = np.random.poisson(5, 10000)\n",
    "\n",
    "# Define the bins\n",
    "bins = np.arange(-0.5, 15.5, step=1)\n",
    "\n",
    "# Plot the histogram\n",
    "plt.hist(counts, bins, density=True)\n",
    "plt.xlabel(\"Counts\")\n",
    "plt.ylabel(\"Probability\")"
   ]
  },
  {
   "cell_type": "code",
   "execution_count": null,
   "metadata": {},
   "outputs": [],
   "source": [
    "# Normally, when running the python interactively, plt.plot() spawns a new window with the plot\n",
    "# You might want to save the plot to a file instead\n",
    "plt.plot(x, y)\n",
    "plt.savefig(\"plot.pdf\")\n",
    "\n",
    "# Particularly, important, if you're running on a cluster, you might not be able to have graphical support (X-forwarding)\n",
    "# Run the following before importing matplotlib.pyplot \n",
    "# import matplotlib as mpl\n",
    "# mpl.use('Agg')"
   ]
  },
  {
   "cell_type": "markdown",
   "metadata": {},
   "source": [
    "Matplotlib has two plotting interfaces, an explicit and an implicit one. So far, we have been using the *implicit* interface, which is invoked whenever `plt` is called directly, for example:\n",
    "\n",
    "```\n",
    "plt.plot(x, y)\n",
    "```\n",
    "\n",
    "While it's completely fine to do this if you're new to the library or making simple plots, it's generally **recommended** to use the explicit object-oriented interface. This interface involves directly manipulating `Figure` and `Axes` objects, which can be created as follows:\n",
    "\n",
    "```\n",
    "fig, ax = plt.figure()\n",
    "```\n",
    "\n",
    "A `Figure` refers to the entire window or page that displays your plots or graphics, similar to a `TCanvas` in `ROOT`.\n",
    "\n",
    "An `Axes` is the actual plot or graph. A `Figure` can contain one or more axes. You can think of `Axes` as an individual subplot within a `Figure`."
   ]
  },
  {
   "cell_type": "code",
   "execution_count": null,
   "metadata": {},
   "outputs": [],
   "source": [
    "# Manipulating fig and ax objects is not difficult, but the notation differs slightly\n",
    "fig, ax = plt.subplots()\n",
    "\n",
    "# Plot directly using the Axes object\n",
    "ax.plot(x, y)\n",
    "\n",
    "# Set labels for the plot (note the additional \"set_\" prefix)\n",
    "ax.set_xlabel(\"x\")\n",
    "ax.set_ylabel(\"sin(x)\")\n",
    "\n",
    "plt.show()"
   ]
  },
  {
   "cell_type": "code",
   "execution_count": null,
   "metadata": {},
   "outputs": [],
   "source": [
    "# The explicit approach is particularly useful when having multiple plots\n",
    "# These can be created using the subplots() command\n",
    "fig, (ax1, ax2) = plt.subplots(nrows=2, ncols=1, sharex=True)\n",
    "\n",
    "ax1.plot(x, y1)\n",
    "ax2.plot(x, y2)\n",
    "\n",
    "ax2.set_xlabel('x')\n",
    "\n",
    "ax1.set_ylabel('sin(x)')\n",
    "ax2.set_ylabel('cos(x)')"
   ]
  },
  {
   "cell_type": "markdown",
   "metadata": {},
   "source": [
    "Check out example gallery: https://matplotlib.org/stable/gallery/index.html"
   ]
  },
  {
   "cell_type": "markdown",
   "metadata": {},
   "source": []
  }
 ],
 "metadata": {
  "kernelspec": {
   "display_name": "hep",
   "language": "python",
   "name": "python3"
  },
  "language_info": {
   "codemirror_mode": {
    "name": "ipython",
    "version": 3
   },
   "file_extension": ".py",
   "mimetype": "text/x-python",
   "name": "python",
   "nbconvert_exporter": "python",
   "pygments_lexer": "ipython3",
   "version": "3.11.6"
  }
 },
 "nbformat": 4,
 "nbformat_minor": 2
}
